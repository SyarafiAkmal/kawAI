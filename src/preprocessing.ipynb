{
 "cells":[
  {
   "cell_type":"markdown",
   "source":[
    "# Data Preprocessing"
   ],
   "attachments":{},
   "metadata":{
    "datalore":{
     "node_id":"LsGcBslr9Se3gMRc0iR5RQ",
     "type":"MD",
     "hide_input_from_viewers":true,
     "hide_output_from_viewers":true
    }
   }
  },
  {
   "cell_type":"code",
   "source":[
    "import pandas as pd\n",
    "df_basic = pd.read_csv('https:\/\/drive.google.com\/uc?id=1gy8_hvjKhrvEr4DYUnUCsOKikTtTL958')\n",
    "df_labels = pd.read_csv('https:\/\/drive.google.com\/uc?id=1hvb0tzApLLYnEOJKAXZ9KTCXvTc98Yc3')\n",
    "df_additional = pd.read_csv('https:\/\/drive.google.com\/uc?id=1bGbCYKW2z9RRe_707guVVfAq9bw1ZguA')\n",
    "df_time = pd.read_csv('https:\/\/drive.google.com\/uc?id=1gNOtvhLHChmMDh3C0vSG6o7AcztKfyhB')\n",
    "df_content = pd.read_csv('https:\/\/drive.google.com\/uc?id=1frhYPKIe25rEI32AcXE5xuCJLeB1dYHH')\n",
    "df_flow = pd.read_csv('https:\/\/drive.google.com\/uc?id=11sc-WCfuQccSSxU_M2DbP0skMCniP4Nq')\n",
    "\n",
    "df_data = pd.read_csv('https:\/\/drive.google.com\/uc?id=1VkdsFILm2KiHRVLF8KlrDZzR33LNRurp')\n",
    "\n",
    "df_combined = pd.merge(df_basic, df_additional, on='id')\n",
    "df_combined = pd.merge(df_combined, df_labels, on='id')\n",
    "df_combined = pd.merge(df_combined, df_content, on='id')\n",
    "df_combined = pd.merge(df_combined, df_time, on='id')"
   ],
   "execution_count":12,
   "outputs":[],
   "metadata":{
    "datalore":{
     "node_id":"2IIRsT1rB2YBX0wND3qqHm",
     "type":"CODE",
     "hide_input_from_viewers":true,
     "hide_output_from_viewers":true
    }
   }
  },
  {
   "cell_type":"markdown",
   "source":[
    "## Feature Scaling\n",
    "\n",
    "using Z Score with StandardScaler library"
   ],
   "attachments":{},
   "metadata":{
    "datalore":{
     "node_id":"NZsITAwmG3X5Jg99TLuKzx",
     "type":"MD",
     "hide_input_from_viewers":true,
     "hide_output_from_viewers":true
    }
   }
  },
  {
   "cell_type":"code",
   "source":[
    "%pip install imbalanced-learn"
   ],
   "execution_count":13,
   "outputs":[
    {
     "name":"stdout",
     "text":[
      "Requirement already satisfied: imbalanced-learn in \/opt\/python\/envs\/default\/lib\/python3.8\/site-packages (0.12.4)\r\n",
      "Requirement already satisfied: numpy>=1.17.3 in \/opt\/python\/envs\/default\/lib\/python3.8\/site-packages (from imbalanced-learn) (1.24.4)\r\n",
      "Requirement already satisfied: scipy>=1.5.0 in \/opt\/python\/envs\/default\/lib\/python3.8\/site-packages (from imbalanced-learn) (1.10.1)\r\n",
      "Requirement already satisfied: scikit-learn>=1.0.2 in \/opt\/python\/envs\/default\/lib\/python3.8\/site-packages (from imbalanced-learn) (1.3.2)\r\n",
      "Requirement already satisfied: joblib>=1.1.1 in \/opt\/python\/envs\/default\/lib\/python3.8\/site-packages (from imbalanced-learn) (1.4.2)\r\n",
      "Requirement already satisfied: threadpoolctl>=2.0.0 in \/opt\/python\/envs\/default\/lib\/python3.8\/site-packages (from imbalanced-learn) (3.5.0)\r\n",
      "Note: you may need to restart the kernel to use updated packages.\n"
     ],
     "output_type":"stream"
    }
   ],
   "metadata":{
    "datalore":{
     "node_id":"OjRW0zBrYtGyAu8o9LmznY",
     "type":"CODE",
     "hide_input_from_viewers":true,
     "hide_output_from_viewers":true
    }
   }
  },
  {
   "cell_type":"code",
   "source":[
    "from imblearn.pipeline import Pipeline  # Import from imbalanced-learn\n",
    "from sklearn.ensemble import RandomForestClassifier  # Example estimator\n",
    "from sklearn.base import TransformerMixin, BaseEstimator\n",
    "import pandas as pd\n",
    "from sklearn.preprocessing import StandardScaler"
   ],
   "execution_count":14,
   "outputs":[],
   "metadata":{
    "datalore":{
     "node_id":"oDDowrkOoDmAIcv8TKYp3p",
     "type":"CODE",
     "hide_input_from_viewers":true,
     "hide_output_from_viewers":true
    }
   }
  },
  {
   "cell_type":"markdown",
   "source":[
    "## Feature Encoding"
   ],
   "attachments":{},
   "metadata":{
    "datalore":{
     "node_id":"X9MLYxpdTbpqHXIztdmblm",
     "type":"MD",
     "hide_input_from_viewers":true,
     "hide_output_from_viewers":true
    }
   }
  },
  {
   "cell_type":"code",
   "source":[
    "\n",
    "\n",
    "# Custom One-Hot Encoder for categorical features\n",
    "class CustomOneHotEncoder(TransformerMixin, BaseEstimator):\n",
    "    def fit(self, X, y=None):\n",
    "        self.categorical_columns = X.select_dtypes(include=['object']).columns\n",
    "        self.dummies = pd.get_dummies(X[self.categorical_columns])\n",
    "        return self\n",
    "\n",
    "    def transform(self, X):\n",
    "        dummies = pd.get_dummies(X[self.categorical_columns])\n",
    "        X = X.drop(self.categorical_columns, axis=1)\n",
    "        return pd.concat([X, dummies], axis=1)"
   ],
   "execution_count":15,
   "outputs":[],
   "metadata":{
    "datalore":{
     "node_id":"R9K8qTTfxsCiUHlQxIzMVz",
     "type":"CODE",
     "hide_input_from_viewers":true,
     "hide_output_from_viewers":true
    }
   }
  },
  {
   "cell_type":"markdown",
   "source":[
    "## Imbalanced Datasets\n",
    "\n",
    "Using SMOTE library"
   ],
   "attachments":{},
   "metadata":{
    "datalore":{
     "node_id":"oiqS4CfIbRFCSB9Oe6km6C",
     "type":"MD",
     "hide_input_from_viewers":true,
     "hide_output_from_viewers":true
    }
   }
  },
  {
   "cell_type":"code",
   "source":[
    "from imblearn.over_sampling import SMOTE"
   ],
   "execution_count":16,
   "outputs":[],
   "metadata":{
    "datalore":{
     "node_id":"ElBZmlwIq23mlJVRYObeJl",
     "type":"CODE",
     "hide_input_from_viewers":true,
     "hide_output_from_viewers":true
    }
   }
  },
  {
   "cell_type":"markdown",
   "source":[
    "## Dimensionality Reduction\n",
    "\n",
    "Using PCA library"
   ],
   "attachments":{},
   "metadata":{
    "datalore":{
     "node_id":"tQKauKOqIjvKMp2DvuJyXo",
     "type":"MD",
     "hide_input_from_viewers":true,
     "hide_output_from_viewers":true
    }
   }
  },
  {
   "cell_type":"code",
   "source":[
    "from sklearn.decomposition import PCA"
   ],
   "execution_count":17,
   "outputs":[],
   "metadata":{
    "datalore":{
     "node_id":"KCejabrboMD5Zn9GjAKdCM",
     "type":"CODE",
     "hide_input_from_viewers":true,
     "hide_output_from_viewers":true
    }
   }
  },
  {
   "cell_type":"markdown",
   "source":[
    "## Compile Preprocessing Pipeline "
   ],
   "attachments":{},
   "metadata":{
    "datalore":{
     "node_id":"9dJRrm0JuHVq1kxx1TW0bu",
     "type":"MD",
     "hide_input_from_viewers":true,
     "hide_output_from_viewers":true
    }
   }
  },
  {
   "cell_type":"code",
   "source":[
    "\n",
    "pipeline = Pipeline([\n",
    "    # ('encode', CustomOneHotEncoder()),\n",
    "    ('scaler', StandardScaler()),\n",
    "    ('smote', SMOTE()),  # SMOTE for handling class imbalance\n",
    "    # ('pca', PCA(n_components=8)),\n",
    "    ('classifier', RandomForestClassifier())  # Example classifier\n",
    "])"
   ],
   "execution_count":27,
   "outputs":[],
   "metadata":{
    "datalore":{
     "node_id":"XVDVNuoHl1rUziZWqG2xza",
     "type":"CODE",
     "hide_input_from_viewers":true,
     "hide_output_from_viewers":true
    }
   }
  },
  {
   "cell_type":"code",
   "source":[
    "from sklearn.model_selection import train_test_split\n",
    "df_combined = df_combined[['state', 'sbytes', 'sttl', 'service', 'swin', 'dwin', 'ct_srv_src', 'ct_srv_dst', 'attack_cat']].sample(frac=1)\n",
    "\n",
    "from sklearn.preprocessing import LabelEncoder\n",
    "\n",
    "categorical_columns = df_combined.select_dtypes(include=['object']).columns\n",
    "\n",
    "label_encoder = LabelEncoder()\n",
    "for col in categorical_columns:\n",
    "    df_combined[col] = label_encoder.fit_transform(df_combined[col].astype(str))\n",
    "\n",
    "X = df_combined.drop(columns=['attack_cat'])\n",
    "label = df_combined['attack_cat']\n",
    "X_train, X_test, y_train, y_test = train_test_split(X, label, test_size=0.2, shuffle=False)\n",
    "\n",
    "pipeline.fit(X_train, y_train)\n",
    "\n",
    "# X_train_transformed = pipeline.named_steps['encode'].transform(X_train)  # One-Hot Encoding\n",
    "X_train_scaled = pipeline.named_steps['scaler'].transform(X_train)  # Scaling\n",
    "X_train_resampled, y_train_resampled = pipeline.named_steps['smote'].fit_resample(X_train_scaled, y_train)  # SMOTE\n",
    "# X_train_pca = pipeline.named_steps['pca'].transform(X_train_scaled)  \n",
    "\n",
    "transformed_data = pd.DataFrame(X_train_resampled)\n",
    "transformed_data['target'] = y_train_resampled\n",
    "\n",
    "# Step 3: Save to a CSV\n",
    "transformed_data.to_csv('transformed_data.csv', index=False)\n",
    "transformed_data"
   ],
   "execution_count":29,
   "outputs":[
    {
     "data":{
      "text\/html":[
       "<div>\n",
       "<style scoped>\n",
       "    .dataframe tbody tr th:only-of-type {\n",
       "        vertical-align: middle;\n",
       "    }\n",
       "\n",
       "    .dataframe tbody tr th {\n",
       "        vertical-align: top;\n",
       "    }\n",
       "\n",
       "    .dataframe thead th {\n",
       "        text-align: right;\n",
       "    }\n",
       "<\/style>\n",
       "<table border=\"1\" class=\"dataframe\">\n",
       "  <thead>\n",
       "    <tr style=\"text-align: right;\">\n",
       "      <th><\/th>\n",
       "      <th>0<\/th>\n",
       "      <th>1<\/th>\n",
       "      <th>2<\/th>\n",
       "      <th>3<\/th>\n",
       "      <th>4<\/th>\n",
       "      <th>5<\/th>\n",
       "      <th>6<\/th>\n",
       "      <th>7<\/th>\n",
       "      <th>target<\/th>\n",
       "    <\/tr>\n",
       "  <\/thead>\n",
       "  <tbody>\n",
       "    <tr>\n",
       "      <th>0<\/th>\n",
       "      <td>-2.716031<\/td>\n",
       "      <td>-0.047410<\/td>\n",
       "      <td>-1.443385<\/td>\n",
       "      <td>-0.702171<\/td>\n",
       "      <td>-0.915863<\/td>\n",
       "      <td>-0.906808<\/td>\n",
       "      <td>-0.215480<\/td>\n",
       "      <td>-0.474149<\/td>\n",
       "      <td>6<\/td>\n",
       "    <\/tr>\n",
       "    <tr>\n",
       "      <th>1<\/th>\n",
       "      <td>-0.410019<\/td>\n",
       "      <td>0.004017<\/td>\n",
       "      <td>-1.443385<\/td>\n",
       "      <td>4.077029<\/td>\n",
       "      <td>1.091914<\/td>\n",
       "      <td>1.102781<\/td>\n",
       "      <td>-0.776221<\/td>\n",
       "      <td>-0.753169<\/td>\n",
       "      <td>6<\/td>\n",
       "    <\/tr>\n",
       "    <tr>\n",
       "      <th>2<\/th>\n",
       "      <td>0.742986<\/td>\n",
       "      <td>-0.050053<\/td>\n",
       "      <td>0.723094<\/td>\n",
       "      <td>0.166774<\/td>\n",
       "      <td>-0.915863<\/td>\n",
       "      <td>-0.906808<\/td>\n",
       "      <td>1.466746<\/td>\n",
       "      <td>1.478989<\/td>\n",
       "      <td>5<\/td>\n",
       "    <\/tr>\n",
       "    <tr>\n",
       "      <th>3<\/th>\n",
       "      <td>-0.410019<\/td>\n",
       "      <td>-0.032189<\/td>\n",
       "      <td>-1.443385<\/td>\n",
       "      <td>-0.702171<\/td>\n",
       "      <td>1.091914<\/td>\n",
       "      <td>1.102781<\/td>\n",
       "      <td>-0.495850<\/td>\n",
       "      <td>-0.288136<\/td>\n",
       "      <td>6<\/td>\n",
       "    <\/tr>\n",
       "    <tr>\n",
       "      <th>4<\/th>\n",
       "      <td>0.742986<\/td>\n",
       "      <td>-0.050263<\/td>\n",
       "      <td>0.723094<\/td>\n",
       "      <td>-0.702171<\/td>\n",
       "      <td>-0.915863<\/td>\n",
       "      <td>-0.906808<\/td>\n",
       "      <td>-0.682764<\/td>\n",
       "      <td>-0.195129<\/td>\n",
       "      <td>4<\/td>\n",
       "    <\/tr>\n",
       "    <tr>\n",
       "      <th>...<\/th>\n",
       "      <td>...<\/td>\n",
       "      <td>...<\/td>\n",
       "      <td>...<\/td>\n",
       "      <td>...<\/td>\n",
       "      <td>...<\/td>\n",
       "      <td>...<\/td>\n",
       "      <td>...<\/td>\n",
       "      <td>...<\/td>\n",
       "      <td>...<\/td>\n",
       "    <\/tr>\n",
       "    <tr>\n",
       "      <th>447215<\/th>\n",
       "      <td>-0.410019<\/td>\n",
       "      <td>-0.043262<\/td>\n",
       "      <td>0.723094<\/td>\n",
       "      <td>1.470192<\/td>\n",
       "      <td>1.091914<\/td>\n",
       "      <td>1.102781<\/td>\n",
       "      <td>-0.682764<\/td>\n",
       "      <td>-0.660162<\/td>\n",
       "      <td>9<\/td>\n",
       "    <\/tr>\n",
       "    <tr>\n",
       "      <th>447216<\/th>\n",
       "      <td>-0.410019<\/td>\n",
       "      <td>-0.045948<\/td>\n",
       "      <td>0.723094<\/td>\n",
       "      <td>1.470192<\/td>\n",
       "      <td>1.091914<\/td>\n",
       "      <td>1.102781<\/td>\n",
       "      <td>-0.682764<\/td>\n",
       "      <td>-0.660162<\/td>\n",
       "      <td>9<\/td>\n",
       "    <\/tr>\n",
       "    <tr>\n",
       "      <th>447217<\/th>\n",
       "      <td>-0.410019<\/td>\n",
       "      <td>-0.043145<\/td>\n",
       "      <td>0.723094<\/td>\n",
       "      <td>1.470192<\/td>\n",
       "      <td>1.091914<\/td>\n",
       "      <td>1.102781<\/td>\n",
       "      <td>-0.682764<\/td>\n",
       "      <td>-0.753169<\/td>\n",
       "      <td>9<\/td>\n",
       "    <\/tr>\n",
       "    <tr>\n",
       "      <th>447218<\/th>\n",
       "      <td>0.742986<\/td>\n",
       "      <td>-0.049042<\/td>\n",
       "      <td>0.723094<\/td>\n",
       "      <td>-0.702171<\/td>\n",
       "      <td>-0.915863<\/td>\n",
       "      <td>-0.906808<\/td>\n",
       "      <td>-0.631665<\/td>\n",
       "      <td>-0.753169<\/td>\n",
       "      <td>9<\/td>\n",
       "    <\/tr>\n",
       "    <tr>\n",
       "      <th>447219<\/th>\n",
       "      <td>-0.410019<\/td>\n",
       "      <td>-0.043136<\/td>\n",
       "      <td>0.723094<\/td>\n",
       "      <td>1.470192<\/td>\n",
       "      <td>1.091914<\/td>\n",
       "      <td>1.102781<\/td>\n",
       "      <td>-0.776221<\/td>\n",
       "      <td>-0.753169<\/td>\n",
       "      <td>9<\/td>\n",
       "    <\/tr>\n",
       "  <\/tbody>\n",
       "<\/table>\n",
       "<p>447220 rows × 9 columns<\/p>\n",
       "<\/div>"
      ]
     },
     "metadata":{},
     "output_type":"display_data"
    }
   ],
   "metadata":{
    "datalore":{
     "node_id":"UXVr95KaWGxxfcZn3bARU7",
     "type":"CODE",
     "hide_input_from_viewers":true,
     "hide_output_from_viewers":true
    }
   }
  }
 ],
 "metadata":{
  "kernelspec":{
   "display_name":"Python",
   "language":"python",
   "name":"python"
  },
  "datalore":{
   "computation_mode":"JUPYTER",
   "package_manager":"pip",
   "base_environment":"default",
   "packages":[],
   "report_row_ids":[],
   "version":3
  }
 },
 "nbformat":4,
 "nbformat_minor":4
}